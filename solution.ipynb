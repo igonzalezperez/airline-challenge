{
 "cells": [
  {
   "cell_type": "code",
   "execution_count": 1,
   "id": "30dc9473",
   "metadata": {},
   "outputs": [],
   "source": [
    "from pathlib import Path\n",
    "\n",
    "import pandas as pd"
   ]
  },
  {
   "cell_type": "code",
   "execution_count": 2,
   "id": "d354b959",
   "metadata": {},
   "outputs": [
    {
     "name": "stderr",
     "output_type": "stream",
     "text": [
      "C:\\Users\\Admin\\AppData\\Local\\Temp\\ipykernel_6916\\3782388122.py:1: DtypeWarning: Columns (1,6) have mixed types. Specify dtype option on import or set low_memory=False.\n",
      "  data = pd.read_csv(Path().joinpath('data', 'dataset_SCL.csv'))\n"
     ]
    },
    {
     "data": {
      "text/plain": [
       "Fecha-I      object\n",
       "Vlo-I        object\n",
       "Ori-I        object\n",
       "Des-I        object\n",
       "Emp-I        object\n",
       "Fecha-O      object\n",
       "Vlo-O        object\n",
       "Ori-O        object\n",
       "Des-O        object\n",
       "Emp-O        object\n",
       "DIA           int64\n",
       "MES           int64\n",
       "AÑO           int64\n",
       "DIANOM       object\n",
       "TIPOVUELO    object\n",
       "OPERA        object\n",
       "SIGLAORI     object\n",
       "SIGLADES     object\n",
       "dtype: object"
      ]
     },
     "execution_count": 2,
     "metadata": {},
     "output_type": "execute_result"
    }
   ],
   "source": [
    "data = pd.read_csv(Path().joinpath('data', 'dataset_SCL.csv'))\n",
    "data.dtypes"
   ]
  },
  {
   "cell_type": "markdown",
   "id": "86f7972d",
   "metadata": {},
   "source": [
    "Al parecer hay columnas con más de un tipo de dato, veamos cuales."
   ]
  },
  {
   "cell_type": "code",
   "execution_count": 3,
   "id": "8d71206e",
   "metadata": {},
   "outputs": [
    {
     "name": "stdout",
     "output_type": "stream",
     "text": [
      "Fecha-I {'str': 68206}\n",
      "Vlo-I {'str': 65536, 'int': 2670}\n",
      "Ori-I {'str': 68206}\n",
      "Des-I {'str': 68206}\n",
      "Emp-I {'str': 68206}\n",
      "Fecha-O {'str': 68206}\n",
      "Vlo-O {'str': 65535, 'float': 2671}\n",
      "Ori-O {'str': 68206}\n",
      "Des-O {'str': 68206}\n",
      "Emp-O {'str': 68206}\n",
      "DIA {'int': 68206}\n",
      "MES {'int': 68206}\n",
      "AÑO {'int': 68206}\n",
      "DIANOM {'str': 68206}\n",
      "TIPOVUELO {'str': 68206}\n",
      "OPERA {'str': 68206}\n",
      "SIGLAORI {'str': 68206}\n",
      "SIGLADES {'str': 68206}\n"
     ]
    }
   ],
   "source": [
    "for i in data.columns:\n",
    "    print(i, data[i].apply(lambda x: type(x).__name__).value_counts().to_dict())"
   ]
  },
  {
   "cell_type": "markdown",
   "id": "d6492587",
   "metadata": {},
   "source": [
    "Las columnas 'Vlo-I' y 'Vlo-O' tienen mezclados int/float y str, por lo que se transformarán a int solamente ya que representan números de vuelo. Adicionalmente, las columnas de fecha son strings pero deberían convertirse a datetime."
   ]
  }
 ],
 "metadata": {
  "kernelspec": {
   "display_name": "Python 3 (ipykernel)",
   "language": "python",
   "name": "python3"
  },
  "language_info": {
   "codemirror_mode": {
    "name": "ipython",
    "version": 3
   },
   "file_extension": ".py",
   "mimetype": "text/x-python",
   "name": "python",
   "nbconvert_exporter": "python",
   "pygments_lexer": "ipython3",
   "version": "3.8.5"
  }
 },
 "nbformat": 4,
 "nbformat_minor": 5
}
